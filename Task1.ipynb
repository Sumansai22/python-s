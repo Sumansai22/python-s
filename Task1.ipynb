{
  "nbformat": 4,
  "nbformat_minor": 0,
  "metadata": {
    "colab": {
      "provenance": [],
      "authorship_tag": "ABX9TyOUaMnmfEHgFQt7TDjpEEa4",
      "include_colab_link": true
    },
    "kernelspec": {
      "name": "python3",
      "display_name": "Python 3"
    },
    "language_info": {
      "name": "python"
    }
  },
  "cells": [
    {
      "cell_type": "markdown",
      "metadata": {
        "id": "view-in-github",
        "colab_type": "text"
      },
      "source": [
        "<a href=\"https://colab.research.google.com/github/Sumansai22/python-s/blob/main/Task1.ipynb\" target=\"_parent\"><img src=\"https://colab.research.google.com/assets/colab-badge.svg\" alt=\"Open In Colab\"/></a>"
      ]
    },
    {
      "cell_type": "code",
      "execution_count": null,
      "metadata": {
        "id": "vQvPvkvSxE4I"
      },
      "outputs": [],
      "source": [
        "principal = float(input(\"Enter the principal amount: \"))\n",
        "rate = float(input(\"Enter the rate of interest: \"))\n",
        "time = float(input(\"Enter the time in years: \"))\n",
        "compound_interest = principal * ((1 + rate/100) ** time) - principal\n",
        "print(\"The compound interest is:\", compound interest)\n",
        ""
      ]
    },
    {
      "cell_type": "code",
      "source": [
        "def calculate_total_cost(x, y):\n",
        "return x*y\n",
        "t = int(input(\"Enter the number of test cases: \"))\n",
        "for_in range(t):\n",
        "x, y = map(int, input().split())\n",
        "total_amount = calculate_total_cost(x, y)\n",
        "print(total_amount)"
      ],
      "metadata": {
        "id": "O4fn4YjXynA2"
      },
      "execution_count": null,
      "outputs": []
    },
    {
      "cell_type": "code",
      "source": [
        "import math\n",
        "def calculate area in acres(radius in feet):\n",
        "area_in_acres = math.pi * (radius_in_feet**2) / 43560\n",
        "return area_in_acres\n",
        "radius in feet = float(input(\"Enter the radius of the field in feet: \"))\n",
        "area_in_acres = calculate_area_in_acres(radius_in_feet)\n",
        "print(f \"The area of the field is: {area_in_acres:.2f) acres\")\n"
      ],
      "metadata": {
        "id": "e7bsd_mgzY_I"
      },
      "execution_count": null,
      "outputs": []
    },
    {
      "cell_type": "code",
      "source": [
        "import math\n",
        "def calculate area in acres(radius in feet):\n",
        "area_in_acres = math.pi * (radius_in_feet**2) / 43560\n",
        "return area_in_acres\n",
        "radius in feet = float(input(\"Enter the radius of the field in feet: \"))\n",
        "area_in_acres = calculate_area_in_acres(radius_in_feet)\n",
        "print(f \"The area of the field is: {area_in_acres:.2f) acres\")\n"
      ],
      "metadata": {
        "id": "v0tGkLWhzmBs"
      },
      "execution_count": null,
      "outputs": []
    },
    {
      "cell_type": "code",
      "source": [
        "def calculate_distance(x1, y1, x2, y2):\n",
        "distance = math.sqrt((x2 -x1)*2+ (y2 - y1)*2)\n",
        "return distance\n",
        "x_ram = float(input(\"Enter the X-coordinate of Ram: \"))\n",
        "y_ram = float(input(\"Enter the Y-coordinate of Ram: \"))\n",
        "x_sita = float(input(\"Enter the X-coordinate of Sita: \"))\n",
        "y_sita = float(input(\"Enter the Y-coordinate of Sita: \"))\n",
        "distance_between_them = calculate_distance(x_ram, y_ram, x_sita, y_sita)\n",
        "print(f\"The distance between Ram and Sita is: {distance between them:.2f}\")\n"
      ],
      "metadata": {
        "id": "muA8576dzrS2"
      },
      "execution_count": null,
      "outputs": []
    }
  ]
}