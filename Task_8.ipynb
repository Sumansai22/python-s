{
  "nbformat": 4,
  "nbformat_minor": 0,
  "metadata": {
    "colab": {
      "provenance": [],
      "authorship_tag": "ABX9TyPyIf3kYbfw8bAhmko64zw6",
      "include_colab_link": true
    },
    "kernelspec": {
      "name": "python3",
      "display_name": "Python 3"
    },
    "language_info": {
      "name": "python"
    }
  },
  "cells": [
    {
      "cell_type": "markdown",
      "metadata": {
        "id": "view-in-github",
        "colab_type": "text"
      },
      "source": [
        "<a href=\"https://colab.research.google.com/github/Sumansai22/python-s/blob/main/Task_8.ipynb\" target=\"_parent\"><img src=\"https://colab.research.google.com/assets/colab-badge.svg\" alt=\"Open In Colab\"/></a>"
      ]
    },
    {
      "cell_type": "code",
      "execution_count": null,
      "metadata": {
        "id": "W47H3egg6PIG"
      },
      "outputs": [],
      "source": [
        "def fibonacci():\n",
        "    a, b = 0, 1\n",
        "    for _ in range(10):\n",
        "        yield a\n",
        "        a, b = b, a + b\n",
        "\n",
        "fibonacci_series = fibonacci()\n",
        "for number in fibonacci_series:\n",
        "    print(number, end=\" \")\n",
        ""
      ]
    },
    {
      "cell_type": "code",
      "source": [
        "def squares():\n",
        "    for i in range(5):\n",
        "        yield i**2\n",
        "\n",
        "squares_generator = squares()\n",
        "for square in squares_generator:\n",
        "    print(square)"
      ],
      "metadata": {
        "id": "x4R5s58D6bgo"
      },
      "execution_count": null,
      "outputs": []
    },
    {
      "cell_type": "code",
      "source": [
        "def operation_decorator(func):\n",
        "    def wrapper(x, y):\n",
        "        print(\"Performing arithmetic operation...\")\n",
        "        result = func(x, y)\n",
        "        print(\"Operation completed.\")\n",
        "        return result\n",
        "    return wrapper\n",
        "\n",
        "@operation_decorator\n",
        "def add(x, y):\n",
        "    return x + y\n",
        "\n",
        "@operation_decorator\n",
        "def divide(x, y):\n",
        "    if y == 0:\n",
        "        return \"Cannot divide by zero!\"\n",
        "    else:\n",
        "        return x / y\n",
        "\n",
        "result_add = add(5, 3)\n",
        "print(\"Result of addition:\", result_add)\n",
        "result_divide = divide(15, 0)\n",
        "print(\"Result of division:\", result_divide)\n",
        ""
      ],
      "metadata": {
        "id": "S0_c0md96eJo"
      },
      "execution_count": null,
      "outputs": []
    }
  ]
}